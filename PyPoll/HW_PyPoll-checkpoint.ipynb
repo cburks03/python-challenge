{
 "cells": [
  {
   "cell_type": "code",
   "execution_count": 1,
   "metadata": {},
   "outputs": [],
   "source": [
    "import os\n",
    "import csv"
   ]
  },
  {
   "cell_type": "code",
   "execution_count": 2,
   "metadata": {},
   "outputs": [],
   "source": [
    "csvpath = os.path.join('election_data.csv')"
   ]
  },
  {
   "cell_type": "code",
<<<<<<< HEAD
   "execution_count": 16,
=======
   "execution_count": 3,
>>>>>>> a263b722cb2234f0674412fd4057f2c22f0ac39a
   "metadata": {},
   "outputs": [
    {
     "name": "stdout",
     "output_type": "stream",
     "text": [
<<<<<<< HEAD
      "<_csv.reader object at 0x00000274BD4CC2B8>\n",
      "CSV Header: ['Voter ID', 'County', 'Candidate']\n",
      "<class 'list'>\n",
      "[('12864552', 'Marsh', 'Khan'), ('17444633', 'Marsh', 'Correy'), ('19330107', 'Marsh', 'Khan'), ('19865775', 'Queen', 'Khan'), ('11927875', 'Marsh', 'Khan')]\n"
=======
      "<_csv.reader object at 0x00000209C79AB798>\n",
      "CSV Header: ['Voter ID', 'County', 'Candidate']\n",
      "i: 12864552\t j: Marsh\t r: Khan\n",
      "\n",
      "i: 17444633\t j: Marsh\t r: Correy\n",
      "\n",
      "i: 19330107\t j: Marsh\t r: Khan\n",
      "\n",
      "i: 19865775\t j: Queen\t r: Khan\n",
      "\n",
      "i: 11927875\t j: Marsh\t r: Khan\n",
      "\n",
      "<class 'list'>\n"
>>>>>>> a263b722cb2234f0674412fd4057f2c22f0ac39a
     ]
    }
   ],
   "source": [
    "voterID_l = []\n",
    "county_l = []\n",
    "candidate_l = []\n",
    "list_2 = []\n",
    "with open(csvpath, newline='') as csvfile:\n",
    "    csvreader = csv.reader(csvfile, delimiter=',')\n",
    "    print(csvreader)\n",
    "    csv_header = next(csvreader)\n",
    "    print(f\"CSV Header: {csv_header}\")\n",
    "    for row in csvreader:\n",
<<<<<<< HEAD
    "        list_2.append((row[0], row [1], row[2]))\n",
    "        \n",
    "print(type(list_2))\n",
    "print(list_2[0:5])"
=======
    "        list_2.append(\"i: {}\\t j: {}\\t r: {}\".format(row[0], row [1], row[2]))\n",
    "    for elem in range(0, 5):\n",
    "        print(list_2[elem] + \"\\n\")\n",
    "        \n",
    "print(type(list_2))"
>>>>>>> a263b722cb2234f0674412fd4057f2c22f0ac39a
   ]
  },
  {
   "cell_type": "code",
<<<<<<< HEAD
   "execution_count": 17,
=======
   "execution_count": 4,
>>>>>>> a263b722cb2234f0674412fd4057f2c22f0ac39a
   "metadata": {},
   "outputs": [
    {
     "data": {
      "text/plain": [
       "3521001"
      ]
     },
<<<<<<< HEAD
     "execution_count": 17,
=======
     "execution_count": 4,
>>>>>>> a263b722cb2234f0674412fd4057f2c22f0ac39a
     "metadata": {},
     "output_type": "execute_result"
    }
   ],
   "source": [
    "#The total number of votes cast\n",
    "total_votes = len(list_2)\n",
    "total_votes"
   ]
  },
  {
   "cell_type": "code",
<<<<<<< HEAD
   "execution_count": 27,
=======
   "execution_count": 5,
>>>>>>> a263b722cb2234f0674412fd4057f2c22f0ac39a
   "metadata": {},
   "outputs": [],
   "source": [
    "# Candidate Options and Vote Counters\n",
    "candidate_options = []\n",
    "candidate_votes = {}\n",
    "\n",
    "# Winning Candidate and Winning Count Tracker\n",
    "winning_candidate = \"\"\n",
    "winning_count = 0"
   ]
  },
  {
   "cell_type": "code",
<<<<<<< HEAD
   "execution_count": 29,
=======
   "execution_count": 7,
>>>>>>> a263b722cb2234f0674412fd4057f2c22f0ac39a
   "metadata": {},
   "outputs": [
    {
     "name": "stdout",
     "output_type": "stream",
     "text": [
<<<<<<< HEAD
      "{'Khan': 2218232, 'Correy': 704201, 'Li': 492941, \"O'Tooley\": 105631}\n",
=======
>>>>>>> a263b722cb2234f0674412fd4057f2c22f0ac39a
      "\n",
      "\n",
      "Election Results\n",
      "-------------------------\n",
      "Total Votes: 3521001\n",
      "-------------------------\n",
<<<<<<< HEAD
      "Khan: 63.000% (2218232)\n",
      "Correy: 20.000% (704201)\n",
      "Li: 14.000% (492941)\n",
      "O'Tooley: 3.000% (105631)\n",
      "-------------------------\n",
      "Winner: Khan\n",
=======
      "O'Tooley: 0.000% (1)\n",
      "-------------------------\n",
      "Winner: O'Tooley\n",
>>>>>>> a263b722cb2234f0674412fd4057f2c22f0ac39a
      "-------------------------\n",
      "\n"
     ]
    }
   ],
   "source": [
    "file_to_output = os.path.join(\"election_analysis.txt\")\n",
    "for r in range(len(list_2)):\n",
<<<<<<< HEAD
    "    candidate_name = list_2[r][2]\n",
    "    if candidate_name not in candidate_options:\n",
    "        candidate_options.append(candidate_name)\n",
    "        candidate_votes[candidate_name] = 0\n",
    "    else:\n",
    "        candidate_votes[candidate_name] = candidate_votes[candidate_name] + 1\n",
    "\n",
    "print(candidate_votes)\n",
=======
    "    candidate_name = row[2]\n",
    "    if candidate_name not in candidate_options:\n",
    "        candidate_options.append(candidate_name)\n",
    "        candidate_votes[candidate_name] = 0\n",
    "        candidate_votes[candidate_name] = candidate_votes[candidate_name] + 1\n",
    "\n",
>>>>>>> a263b722cb2234f0674412fd4057f2c22f0ac39a
    "            # Print the results and export the data to our text file\n",
    "with open(file_to_output, \"w\") as txt_file:\n",
    "\n",
    "    # Print the final vote count (to terminal)\n",
    "    election_results = (\n",
    "        f\"\\n\\nElection Results\\n\"\n",
    "        f\"-------------------------\\n\"\n",
    "        f\"Total Votes: {total_votes}\\n\"\n",
    "        f\"-------------------------\\n\")\n",
    "    print(election_results, end=\"\")\n",
    "     # Save the final vote count to the text file\n",
    "    txt_file.write(election_results)\n",
    "\n",
    "    # Determine the winner by looping through the counts\n",
    "    for candidate in candidate_votes:\n",
    "\n",
    "        # Retrieve vote count and percentage\n",
    "        votes = candidate_votes.get(candidate)\n",
    "        vote_percentage = float(votes) / float(total_votes) * 100\n",
    "\n",
    "        # Determine winning vote count and candidate\n",
    "        if (votes > winning_count):\n",
    "            winning_count = votes\n",
    "            winning_candidate = candidate\n",
    "\n",
    "        # Print each candidate's voter count and percentage (to terminal)\n",
    "        voter_output = f\"{candidate}: {vote_percentage:.3f}% ({votes})\\n\"\n",
    "        print(voter_output, end=\"\")\n",
    "\n",
    "        # Save each candidate's voter count and percentage to text file\n",
    "        txt_file.write(voter_output)\n",
    "\n",
    "    # Print the winning candidate (to terminal)\n",
    "    winning_candidate_summary = (\n",
    "        f\"-------------------------\\n\"\n",
    "        f\"Winner: {winning_candidate}\\n\"\n",
    "        f\"-------------------------\\n\")\n",
    "    print(winning_candidate_summary)\n",
    "\n",
    "    # Save the winning candidate's name to the text file\n",
    "    txt_file.write(winning_candidate_summary)\n"
   ]
  },
  {
   "cell_type": "code",
   "execution_count": null,
   "metadata": {},
   "outputs": [],
   "source": []
  }
 ],
 "metadata": {
  "kernelspec": {
   "display_name": "Python 3",
   "language": "python",
   "name": "python3"
  },
  "language_info": {
   "codemirror_mode": {
    "name": "ipython",
    "version": 3
   },
   "file_extension": ".py",
   "mimetype": "text/x-python",
   "name": "python",
   "nbconvert_exporter": "python",
   "pygments_lexer": "ipython3",
   "version": "3.7.3"
  }
 },
 "nbformat": 4,
 "nbformat_minor": 4
}
