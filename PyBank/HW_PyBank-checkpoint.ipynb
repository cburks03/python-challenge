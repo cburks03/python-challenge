{
 "cells": [
  {
   "cell_type": "code",
   "execution_count": 8,
   "metadata": {},
   "outputs": [
    {
     "name": "stdout",
     "output_type": "stream",
     "text": [
      "<_csv.reader object at 0x000001C121FCCF50>\n",
      "CSV Header: ['Date', 'Profit/Losses']\n"
     ]
    }
   ],
   "source": [
    "import os\n",
    "import csv\n",
    "csvpath = os.path.join('..', 'Instructions', 'PyBank', 'Resources', 'budget_data.csv')\n",
    "date_l=[]\n",
    "pl_l = []\n",
    "with open(csvpath, newline='') as csvfile:\n",
    "    csvreader = csv.reader(csvfile, delimiter=',')\n",
    "    print(csvreader)\n",
    "    csv_header = next(csvreader)\n",
    "    print(f\"CSV Header: {csv_header}\")\n",
    "    for [i,j] in csvreader:\n",
    "        date_l.append(i)\n",
    "        pl_l.append(j)\n",
    "        #print(\"i: {}\\tj: {}\".format(i,j))\n",
    "\n",
    "        \n",
    "        "
   ]
  },
  {
   "cell_type": "code",
   "execution_count": 9,
   "metadata": {},
   "outputs": [
    {
     "data": {
      "text/plain": [
       "['867884',\n",
       " '984655',\n",
       " '322013',\n",
       " '-69417',\n",
       " '310503',\n",
       " '522857',\n",
       " '1033096',\n",
       " '604885',\n",
       " '-216386',\n",
       " '477532',\n",
       " '893810',\n",
       " '-80353',\n",
       " '779806',\n",
       " '-335203',\n",
       " '697845',\n",
       " '793163',\n",
       " '485070',\n",
       " '584122',\n",
       " '62729',\n",
       " '668179',\n",
       " '899906',\n",
       " '834719',\n",
       " '132003',\n",
       " '309978',\n",
       " '-755566',\n",
       " '1170593',\n",
       " '252788',\n",
       " '1151518',\n",
       " '817256',\n",
       " '570757',\n",
       " '506702',\n",
       " '-1022534',\n",
       " '475062',\n",
       " '779976',\n",
       " '144175',\n",
       " '542494',\n",
       " '359333',\n",
       " '321469',\n",
       " '67780',\n",
       " '471435',\n",
       " '565603',\n",
       " '872480',\n",
       " '789480',\n",
       " '999942',\n",
       " '-1196225',\n",
       " '268997',\n",
       " '-687986',\n",
       " '1150461',\n",
       " '682458',\n",
       " '617856',\n",
       " '824098',\n",
       " '581943',\n",
       " '132864',\n",
       " '448062',\n",
       " '689161',\n",
       " '800701',\n",
       " '1166643',\n",
       " '947333',\n",
       " '578668',\n",
       " '988505',\n",
       " '1139715',\n",
       " '1029471',\n",
       " '687533',\n",
       " '-524626',\n",
       " '158620',\n",
       " '87795',\n",
       " '423389',\n",
       " '840723',\n",
       " '568529',\n",
       " '332067',\n",
       " '989499',\n",
       " '778237',\n",
       " '650000',\n",
       " '-1100387',\n",
       " '-174946',\n",
       " '757143',\n",
       " '445709',\n",
       " '712961',\n",
       " '-1163797',\n",
       " '569899',\n",
       " '768450',\n",
       " '102685',\n",
       " '795914',\n",
       " '60988',\n",
       " '138230',\n",
       " '671099']"
      ]
     },
     "execution_count": 9,
     "metadata": {},
     "output_type": "execute_result"
    }
   ],
   "source": [
    "pl_l"
   ]
  },
  {
   "cell_type": "code",
   "execution_count": 10,
   "metadata": {},
   "outputs": [
    {
     "name": "stdout",
     "output_type": "stream",
     "text": [
      "Date: Jan-2010\tProfit/Loss: 867884\n",
      "Date: Feb-2010\tProfit/Loss: 984655\n",
      "Date: Mar-2010\tProfit/Loss: 322013\n",
      "Date: Apr-2010\tProfit/Loss: -69417\n",
      "Date: May-2010\tProfit/Loss: 310503\n",
      "Date: Jun-2010\tProfit/Loss: 522857\n",
      "Date: Jul-2010\tProfit/Loss: 1033096\n",
      "Date: Aug-2010\tProfit/Loss: 604885\n",
      "Date: Sep-2010\tProfit/Loss: -216386\n",
      "Date: Oct-2010\tProfit/Loss: 477532\n",
      "Date: Nov-2010\tProfit/Loss: 893810\n",
      "Date: Dec-2010\tProfit/Loss: -80353\n",
      "Date: Jan-2011\tProfit/Loss: 779806\n",
      "Date: Feb-2011\tProfit/Loss: -335203\n",
      "Date: Mar-2011\tProfit/Loss: 697845\n",
      "Date: Apr-2011\tProfit/Loss: 793163\n",
      "Date: May-2011\tProfit/Loss: 485070\n",
      "Date: Jun-2011\tProfit/Loss: 584122\n",
      "Date: Jul-2011\tProfit/Loss: 62729\n",
      "Date: Aug-2011\tProfit/Loss: 668179\n",
      "Date: Sep-2011\tProfit/Loss: 899906\n",
      "Date: Oct-2011\tProfit/Loss: 834719\n",
      "Date: Nov-2011\tProfit/Loss: 132003\n",
      "Date: Dec-2011\tProfit/Loss: 309978\n",
      "Date: Jan-2012\tProfit/Loss: -755566\n",
      "Date: Feb-2012\tProfit/Loss: 1170593\n",
      "Date: Mar-2012\tProfit/Loss: 252788\n",
      "Date: Apr-2012\tProfit/Loss: 1151518\n",
      "Date: May-2012\tProfit/Loss: 817256\n",
      "Date: Jun-2012\tProfit/Loss: 570757\n",
      "Date: Jul-2012\tProfit/Loss: 506702\n",
      "Date: Aug-2012\tProfit/Loss: -1022534\n",
      "Date: Sep-2012\tProfit/Loss: 475062\n",
      "Date: Oct-2012\tProfit/Loss: 779976\n",
      "Date: Nov-2012\tProfit/Loss: 144175\n",
      "Date: Dec-2012\tProfit/Loss: 542494\n",
      "Date: Jan-2013\tProfit/Loss: 359333\n",
      "Date: Feb-2013\tProfit/Loss: 321469\n",
      "Date: Mar-2013\tProfit/Loss: 67780\n",
      "Date: Apr-2013\tProfit/Loss: 471435\n",
      "Date: May-2013\tProfit/Loss: 565603\n",
      "Date: Jun-2013\tProfit/Loss: 872480\n",
      "Date: Jul-2013\tProfit/Loss: 789480\n",
      "Date: Aug-2013\tProfit/Loss: 999942\n",
      "Date: Sep-2013\tProfit/Loss: -1196225\n",
      "Date: Oct-2013\tProfit/Loss: 268997\n",
      "Date: Nov-2013\tProfit/Loss: -687986\n",
      "Date: Dec-2013\tProfit/Loss: 1150461\n",
      "Date: Jan-2014\tProfit/Loss: 682458\n",
      "Date: Feb-2014\tProfit/Loss: 617856\n",
      "Date: Mar-2014\tProfit/Loss: 824098\n",
      "Date: Apr-2014\tProfit/Loss: 581943\n",
      "Date: May-2014\tProfit/Loss: 132864\n",
      "Date: Jun-2014\tProfit/Loss: 448062\n",
      "Date: Jul-2014\tProfit/Loss: 689161\n",
      "Date: Aug-2014\tProfit/Loss: 800701\n",
      "Date: Sep-2014\tProfit/Loss: 1166643\n",
      "Date: Oct-2014\tProfit/Loss: 947333\n",
      "Date: Nov-2014\tProfit/Loss: 578668\n",
      "Date: Dec-2014\tProfit/Loss: 988505\n",
      "Date: Jan-2015\tProfit/Loss: 1139715\n",
      "Date: Feb-2015\tProfit/Loss: 1029471\n",
      "Date: Mar-2015\tProfit/Loss: 687533\n",
      "Date: Apr-2015\tProfit/Loss: -524626\n",
      "Date: May-2015\tProfit/Loss: 158620\n",
      "Date: Jun-2015\tProfit/Loss: 87795\n",
      "Date: Jul-2015\tProfit/Loss: 423389\n",
      "Date: Aug-2015\tProfit/Loss: 840723\n",
      "Date: Sep-2015\tProfit/Loss: 568529\n",
      "Date: Oct-2015\tProfit/Loss: 332067\n",
      "Date: Nov-2015\tProfit/Loss: 989499\n",
      "Date: Dec-2015\tProfit/Loss: 778237\n",
      "Date: Jan-2016\tProfit/Loss: 650000\n",
      "Date: Feb-2016\tProfit/Loss: -1100387\n",
      "Date: Mar-2016\tProfit/Loss: -174946\n",
      "Date: Apr-2016\tProfit/Loss: 757143\n",
      "Date: May-2016\tProfit/Loss: 445709\n",
      "Date: Jun-2016\tProfit/Loss: 712961\n",
      "Date: Jul-2016\tProfit/Loss: -1163797\n",
      "Date: Aug-2016\tProfit/Loss: 569899\n",
      "Date: Sep-2016\tProfit/Loss: 768450\n",
      "Date: Oct-2016\tProfit/Loss: 102685\n",
      "Date: Nov-2016\tProfit/Loss: 795914\n",
      "Date: Dec-2016\tProfit/Loss: 60988\n",
      "Date: Jan-2017\tProfit/Loss: 138230\n",
      "Date: Feb-2017\tProfit/Loss: 671099\n"
     ]
    }
   ],
   "source": [
    "# date_l\n",
    "# pl_l\n",
    "for i in range(len(pl_l)):\n",
    "    print(\"Date: {}\\tProfit/Loss: {}\".format(date_l[i],pl_l[i]))"
   ]
  },
  {
   "cell_type": "code",
   "execution_count": 11,
   "metadata": {},
   "outputs": [],
   "source": [
    "\n",
    "# The total number of months included in the dataset\n",
    "total_months = 0\n",
    "net_total_amount = 0\n",
    "average_changes = 0\n",
    "greatest_increase = 0\n",
    "greatest_decrease = 0\n",
    "revenue_change = 0\n",
    "prev_revenue = 0"
   ]
  },
  {
   "cell_type": "code",
   "execution_count": 12,
   "metadata": {},
   "outputs": [
    {
     "name": "stdout",
     "output_type": "stream",
     "text": [
      "['867884', '984655', '322013', '-69417', '310503', '522857', '1033096', '604885', '-216386', '477532', '893810', '-80353', '779806', '-335203', '697845', '793163', '485070', '584122', '62729', '668179', '899906', '834719', '132003', '309978', '-755566', '1170593', '252788', '1151518', '817256', '570757', '506702', '-1022534', '475062', '779976', '144175', '542494', '359333', '321469', '67780', '471435', '565603', '872480', '789480', '999942', '-1196225', '268997', '-687986', '1150461', '682458', '617856', '824098', '581943', '132864', '448062', '689161', '800701', '1166643', '947333', '578668', '988505', '1139715', '1029471', '687533', '-524626', '158620', '87795', '423389', '840723', '568529', '332067', '989499', '778237', '650000', '-1100387', '-174946', '757143', '445709', '712961', '-1163797', '569899', '768450', '102685', '795914', '60988', '138230', '671099']\n"
     ]
    }
   ],
   "source": [
    "total_months = len(date_l)\n",
    "total_months\n",
    "\n",
    "print(pl_l)"
   ]
  },
  {
   "cell_type": "code",
   "execution_count": 13,
   "metadata": {},
   "outputs": [
    {
     "name": "stdout",
     "output_type": "stream",
     "text": [
      "86\n"
     ]
    }
   ],
   "source": [
    "print(total_months)"
   ]
  },
  {
   "cell_type": "code",
   "execution_count": 14,
   "metadata": {},
   "outputs": [
    {
     "name": "stdout",
     "output_type": "stream",
     "text": [
      "38382578\n",
      "-2315.1176470588234\n",
      "['Feb-2012', 1926159]\n",
      "['Sep-2013', -2196167]\n",
      "\n",
      "Financial Analysis\n",
      "-------------------------------\n",
      "Total Months: 86\n",
      "Total Revenue: $38382578\n",
      "Average Revenue Change: $-2315.1176470588234\n",
      "Greatest Increase in Revenue: Feb-2012 ($1926159)\n",
      "Greatest Decrease in Revenue: Sep-2013 ($-2196167)\n",
      "\n"
     ]
    }
   ],
   "source": [
    "# The net total amount of \"Profit/Losses\" over the entire period\n",
    "\n",
    "rchange=[]\n",
    "greatest_increase = [\"\", 0]\n",
    "greatest_decrease = [\"\", 9999999999999999999999]\n",
    "prev_revenue = 0\n",
    "for j in range(len(pl_l)):\n",
    "    net_total_amount = int(pl_l[j]) + net_total_amount\n",
    "\n",
    "    revenue_change = int(pl_l[j]) - prev_revenue\n",
    "    \n",
    "    prev_revenue = int(pl_l[j])\n",
    "    \n",
    "    if (revenue_change > greatest_increase[1]):\n",
    "        greatest_increase[1] = revenue_change\n",
    "        greatest_increase[0] = str(date_l[j])\n",
    "    \n",
    "    if (revenue_change < greatest_decrease[1]):\n",
    "        greatest_decrease[1] = revenue_change\n",
    "        greatest_decrease[0] = str(date_l[j])\n",
    "    \n",
    "    rchange.append(revenue_change)\n",
    "\n",
    "    \n",
    "rchange = rchange[1:]\n",
    "net_average = sum(rchange) / len(rchange)\n",
    "    \n",
    "\n",
    "print(net_total_amount)\n",
    "print(net_average)\n",
    "print(greatest_increase)\n",
    "print(greatest_decrease)\n",
    "\n",
    "output = (\n",
    "    f\"\\nFinancial Analysis\\n\"\n",
    "    f\"-------------------------------\\n\"\n",
    "    f\"Total Months: {total_months}\\n\"\n",
    "    f\"Total Revenue: ${net_total_amount}\\n\"\n",
    "    f\"Average Revenue Change: ${net_average}\\n\"\n",
    "    f\"Greatest Increase in Revenue: {greatest_increase[0]} (${greatest_increase[1]})\\n\"\n",
    "    f\"Greatest Decrease in Revenue: {greatest_decrease[0]} (${greatest_decrease[1]})\\n\"\n",
    ")\n",
    "print(output)"
   ]
  },
  {
   "cell_type": "code",
   "execution_count": 15,
   "metadata": {},
   "outputs": [],
   "source": [
    "output_file = \"PyBank_analysis.txt\"\n",
    "with open(output_file,\"w\") as txt_file:\n",
    "    txt_file.write(output)"
   ]
  },
  {
   "cell_type": "code",
   "execution_count": null,
   "metadata": {},
   "outputs": [],
   "source": []
  }
 ],
 "metadata": {
  "kernelspec": {
   "display_name": "Python 3",
   "language": "python",
   "name": "python3"
  },
  "language_info": {
   "codemirror_mode": {
    "name": "ipython",
    "version": 3
   },
   "file_extension": ".py",
   "mimetype": "text/x-python",
   "name": "python",
   "nbconvert_exporter": "python",
   "pygments_lexer": "ipython3",
   "version": "3.7.3"
  }
 },
 "nbformat": 4,
 "nbformat_minor": 4
}
